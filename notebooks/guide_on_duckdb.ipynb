{
 "cells": [
  {
   "cell_type": "markdown",
   "metadata": {},
   "source": [
    "# DuckDB in python\n",
    "Notebook that follows the [comprehensive guide](https://medium.com/@anshubantra/using-duckdb-in-python-a-comprehensive-guide-d14bc0b06546) pusblished in medium platform at _September 2024_."
   ]
  },
  {
   "cell_type": "code",
   "execution_count": 1,
   "metadata": {},
   "outputs": [],
   "source": [
    "import duckdb as dd\n",
    "import pandas as pd\n",
    "from pathlib import Path\n",
    "\n",
    "repo_path = Path().resolve().parent # local repository path"
   ]
  },
  {
   "cell_type": "markdown",
   "metadata": {},
   "source": [
    "Create a `DuckDB` database from scratch\n",
    " * database `in-memory` assuming that data is stored in RAM memory\n",
    " * database \"persistent\" assuming that data is stored in a file, making persistent between sessions"
   ]
  },
  {
   "cell_type": "code",
   "execution_count": 4,
   "metadata": {},
   "outputs": [],
   "source": [
    "# in-memory DuckDB connection\n",
    "con_ram = dd.connect(':memory:')\n",
    "\n",
    "# persistent DuckDB connection\n",
    "con_per = dd.connect(repo_path / 'data/my_database.db')"
   ]
  },
  {
   "cell_type": "markdown",
   "metadata": {},
   "source": [
    "See the database schema:"
   ]
  },
  {
   "cell_type": "code",
   "execution_count": 5,
   "metadata": {},
   "outputs": [
    {
     "name": "stdout",
     "output_type": "stream",
     "text": [
      "in-memory database\n",
      "\n"
     ]
    },
    {
     "data": {
      "text/plain": [
       "┌──────────┬─────────┬─────────┬──────────────┬──────────────┬───────────┐\n",
       "│ database │ schema  │  name   │ column_names │ column_types │ temporary │\n",
       "│ varchar  │ varchar │ varchar │  varchar[]   │  varchar[]   │  boolean  │\n",
       "├──────────┴─────────┴─────────┴──────────────┴──────────────┴───────────┤\n",
       "│                                 0 rows                                 │\n",
       "└────────────────────────────────────────────────────────────────────────┘"
      ]
     },
     "metadata": {},
     "output_type": "display_data"
    },
    {
     "name": "stdout",
     "output_type": "stream",
     "text": [
      "persistent database\n",
      "\n"
     ]
    },
    {
     "data": {
      "text/plain": [
       "┌─────────────┬─────────┬───────────┬──────────────────────────────────────────────────────────┬───────────────────────────────────────────────┬───────────┐\n",
       "│  database   │ schema  │   name    │                       column_names                       │                 column_types                  │ temporary │\n",
       "│   varchar   │ varchar │  varchar  │                        varchar[]                         │                   varchar[]                   │  boolean  │\n",
       "├─────────────┼─────────┼───────────┼──────────────────────────────────────────────────────────┼───────────────────────────────────────────────┼───────────┤\n",
       "│ my_database │ main    │ countries │ [country, code, region, sub_region, intermediate_region] │ [VARCHAR, VARCHAR, VARCHAR, VARCHAR, VARCHAR] │ false     │\n",
       "│ my_database │ main    │ employees │ [id, name, age, salary]                                  │ [INTEGER, VARCHAR, INTEGER, DOUBLE]           │ false     │\n",
       "└─────────────┴─────────┴───────────┴──────────────────────────────────────────────────────────┴───────────────────────────────────────────────┴───────────┘"
      ]
     },
     "metadata": {},
     "output_type": "display_data"
    }
   ],
   "source": [
    "print('in-memory database\\n')\n",
    "display(con_ram.sql('show all tables'))\n",
    "print('persistent database\\n')\n",
    "display(con_per.sql('show all tables'))"
   ]
  },
  {
   "cell_type": "markdown",
   "metadata": {},
   "source": [
    "## Basic usage of DuckDB\n",
    "You can start running SQL queries directly with DuckDB in python, here is basic example:"
   ]
  },
  {
   "cell_type": "code",
   "execution_count": 4,
   "metadata": {},
   "outputs": [
    {
     "name": "stdout",
     "output_type": "stream",
     "text": [
      "<class 'duckdb.duckdb.DuckDBPyRelation'>\n",
      "[('DuckDB_is_cool',)]\n",
      "┌────────────────┐\n",
      "│     answer     │\n",
      "│    varchar     │\n",
      "├────────────────┤\n",
      "│ DuckDB_is_cool │\n",
      "└────────────────┘\n",
      "\n"
     ]
    }
   ],
   "source": [
    "# Running a basic SQL query\n",
    "result = dd.sql(\"SELECT 'DuckDB_is_cool' AS answer\")\n",
    "print(type(result))\n",
    "print(result.fetchall())\n",
    "print(result)"
   ]
  },
  {
   "cell_type": "code",
   "execution_count": 36,
   "metadata": {},
   "outputs": [
    {
     "name": "stdout",
     "output_type": "stream",
     "text": [
      "┌────────────┐\n",
      "│     ID     │\n",
      "│   int64    │\n",
      "├────────────┤\n",
      "│          0 │\n",
      "│          1 │\n",
      "│          2 │\n",
      "│          3 │\n",
      "│          4 │\n",
      "│          5 │\n",
      "│          6 │\n",
      "│          7 │\n",
      "│          8 │\n",
      "│          9 │\n",
      "│          · │\n",
      "│          · │\n",
      "│          · │\n",
      "│        990 │\n",
      "│        991 │\n",
      "│        992 │\n",
      "│        993 │\n",
      "│        994 │\n",
      "│        995 │\n",
      "│        996 │\n",
      "│        997 │\n",
      "│        998 │\n",
      "│        999 │\n",
      "├────────────┤\n",
      "│ 1000 rows  │\n",
      "│ (20 shown) │\n",
      "└────────────┘\n",
      "\n"
     ]
    }
   ],
   "source": [
    "# Create a relation from a SQL query\n",
    "rel = dd.sql(\"SELECT * FROM range(10_00) AS tbl(ID)\")\n",
    "# Display the relation\n",
    "rel.show()"
   ]
  },
  {
   "cell_type": "markdown",
   "metadata": {},
   "source": [
    "## DuckDB for SQL queries and data ingestion\n",
    "DuckDB supports any SQL syntax and you can definitely use as \"interface\" with SQL without the trouble if using tools such as `SQL mgnt studio` or `DBeaver`. You can use DuckDB instead and keep working on the python world.\n",
    "\n",
    "Let us use the `con_per` to use the `my_database.db` that this notebook creates, and insert manually a table:"
   ]
  },
  {
   "cell_type": "code",
   "execution_count": 37,
   "metadata": {},
   "outputs": [
    {
     "data": {
      "text/plain": [
       "┌─────────────┬─────────┬───────────┬──────────────────────────────────────────────────────────┬───────────────────────────────────────────────┬───────────┐\n",
       "│  database   │ schema  │   name    │                       column_names                       │                 column_types                  │ temporary │\n",
       "│   varchar   │ varchar │  varchar  │                        varchar[]                         │                   varchar[]                   │  boolean  │\n",
       "├─────────────┼─────────┼───────────┼──────────────────────────────────────────────────────────┼───────────────────────────────────────────────┼───────────┤\n",
       "│ my_database │ main    │ countries │ [country, code, region, sub_region, intermediate_region] │ [VARCHAR, VARCHAR, VARCHAR, VARCHAR, VARCHAR] │ false     │\n",
       "│ my_database │ main    │ employees │ [id, name, age, salary]                                  │ [INTEGER, VARCHAR, INTEGER, DOUBLE]           │ false     │\n",
       "└─────────────┴─────────┴───────────┴──────────────────────────────────────────────────────────┴───────────────────────────────────────────────┴───────────┘"
      ]
     },
     "execution_count": 37,
     "metadata": {},
     "output_type": "execute_result"
    }
   ],
   "source": [
    "# Create a table and its schema\n",
    "con_per.execute('''\n",
    "CREATE OR REPLACE TABLE countries (\n",
    "    country VARCHAR,\n",
    "    code VARCHAR,\n",
    "    region VARCHAR,\n",
    "    sub_region VARCHAR,\n",
    "    intermediate_region VARCHAR\n",
    ");\n",
    "''')\n",
    "\n",
    "# Insert some data into 'countries' table\n",
    "con_per.execute('''\n",
    "INSERT INTO countries VALUES\n",
    "('Australia', 'AUS', 'Oceania', 'Australia and New Zealand', ''),\n",
    "('India', 'IND', 'Asia', 'Southern Asia', '');\n",
    "''')\n",
    "\n",
    "con_per.sql('SHOW ALL TABLES')"
   ]
  },
  {
   "cell_type": "code",
   "execution_count": 6,
   "metadata": {},
   "outputs": [
    {
     "data": {
      "text/plain": [
       "┌────────────────────────────────────┬─────────┬──────────┬─────────────────────────────────┬─────────────────────┐\n",
       "│              country               │  code   │  region  │           sub_region            │ intermediate_region │\n",
       "│              varchar               │ varchar │ varchar  │             varchar             │       varchar       │\n",
       "├────────────────────────────────────┼─────────┼──────────┼─────────────────────────────────┼─────────────────────┤\n",
       "│ Afghanistan                        │ AFG     │ Asia     │ Southern Asia                   │ NULL                │\n",
       "│ Åland Islands                      │ ALA     │ Europe   │ Northern Europe                 │ NULL                │\n",
       "│ Albania                            │ ALB     │ Europe   │ Southern Europe                 │ NULL                │\n",
       "│ Algeria                            │ DZA     │ Africa   │ Northern Africa                 │ NULL                │\n",
       "│ American Samoa                     │ ASM     │ Oceania  │ Polynesia                       │ NULL                │\n",
       "│ Andorra                            │ AND     │ Europe   │ Southern Europe                 │ NULL                │\n",
       "│ Angola                             │ AGO     │ Africa   │ Sub-Saharan Africa              │ Middle Africa       │\n",
       "│ Anguilla                           │ AIA     │ Americas │ Latin America and the Caribbean │ Caribbean           │\n",
       "│ Antarctica                         │ ATA     │ NULL     │ NULL                            │ NULL                │\n",
       "│ Antigua and Barbuda                │ ATG     │ Americas │ Latin America and the Caribbean │ Caribbean           │\n",
       "│    ·                               │  ·      │    ·     │     ·                           │  ·                  │\n",
       "│    ·                               │  ·      │    ·     │     ·                           │  ·                  │\n",
       "│    ·                               │  ·      │    ·     │     ·                           │  ·                  │\n",
       "│ Vanuatu                            │ VUT     │ Oceania  │ Melanesia                       │ NULL                │\n",
       "│ Venezuela (Bolivarian Republic of) │ VEN     │ Americas │ Latin America and the Caribbean │ South America       │\n",
       "│ Viet Nam                           │ VNM     │ Asia     │ South-eastern Asia              │ NULL                │\n",
       "│ Virgin Islands (British)           │ VGB     │ Americas │ Latin America and the Caribbean │ Caribbean           │\n",
       "│ Virgin Islands (U.S.)              │ VIR     │ Americas │ Latin America and the Caribbean │ Caribbean           │\n",
       "│ Wallis and Futuna                  │ WLF     │ Oceania  │ Polynesia                       │ NULL                │\n",
       "│ Western Sahara                     │ ESH     │ Africa   │ Northern Africa                 │ NULL                │\n",
       "│ Yemen                              │ YEM     │ Asia     │ Western Asia                    │ NULL                │\n",
       "│ Zambia                             │ ZMB     │ Africa   │ Sub-Saharan Africa              │ Eastern Africa      │\n",
       "│ Zimbabwe                           │ ZWE     │ Africa   │ Sub-Saharan Africa              │ Eastern Africa      │\n",
       "├────────────────────────────────────┴─────────┴──────────┴─────────────────────────────────┴─────────────────────┤\n",
       "│ 249 rows (20 shown)                                                                                   5 columns │\n",
       "└─────────────────────────────────────────────────────────────────────────────────────────────────────────────────┘"
      ]
     },
     "execution_count": 6,
     "metadata": {},
     "output_type": "execute_result"
    }
   ],
   "source": [
    "# Show the table\n",
    "con_per.sql('select * from countries')"
   ]
  },
  {
   "cell_type": "markdown",
   "metadata": {},
   "source": [
    "Now, you can see that we successfully create the table `countries` on the `domain = main` (default) while before `my_database.db` was empty.\n",
    "\n",
    "---\n",
    "\n",
    "Let us create the $2^{nd}$ table for `employees` so we can map employees in each country"
   ]
  },
  {
   "cell_type": "code",
   "execution_count": 39,
   "metadata": {},
   "outputs": [
    {
     "data": {
      "text/plain": [
       "┌─────────────┬─────────┬───────────┬──────────────────────────────────────────────────────────┬───────────────────────────────────────────────┬───────────┐\n",
       "│  database   │ schema  │   name    │                       column_names                       │                 column_types                  │ temporary │\n",
       "│   varchar   │ varchar │  varchar  │                        varchar[]                         │                   varchar[]                   │  boolean  │\n",
       "├─────────────┼─────────┼───────────┼──────────────────────────────────────────────────────────┼───────────────────────────────────────────────┼───────────┤\n",
       "│ my_database │ main    │ countries │ [country, code, region, sub_region, intermediate_region] │ [VARCHAR, VARCHAR, VARCHAR, VARCHAR, VARCHAR] │ false     │\n",
       "│ my_database │ main    │ employees │ [id, name, age, salary]                                  │ [INTEGER, VARCHAR, INTEGER, DOUBLE]           │ false     │\n",
       "└─────────────┴─────────┴───────────┴──────────────────────────────────────────────────────────┴───────────────────────────────────────────────┴───────────┘"
      ]
     },
     "execution_count": 39,
     "metadata": {},
     "output_type": "execute_result"
    }
   ],
   "source": [
    "# Create second table\n",
    "con_per.execute('''\n",
    "CREATE OR REPLACE TABLE employees (\n",
    "    id INTEGER,\n",
    "    name VARCHAR,\n",
    "    age INTEGER,\n",
    "    salary DOUBLE\n",
    ");\n",
    "''')\n",
    "\n",
    "# Insert some data in second table\n",
    "con_per.execute('''\n",
    "INSERT INTO employees VALUES\n",
    "(1, 'Person 1', 30, 70000),\n",
    "(2, 'Person 2', 25, 55000),\n",
    "(3, 'Person 3', 35, 80000);\n",
    "''')\n",
    "\n",
    "\n",
    "# Result of showing tables after creating the second table\n",
    "con_per.sql('SHOW ALL TABLES')"
   ]
  },
  {
   "cell_type": "code",
   "execution_count": 7,
   "metadata": {},
   "outputs": [
    {
     "name": "stdout",
     "output_type": "stream",
     "text": [
      "┌───────┬──────────┬───────┬──────────┐\n",
      "│  id   │   name   │  age  │  salary  │\n",
      "│ int32 │ varchar  │ int32 │  double  │\n",
      "├───────┼──────────┼───────┼──────────┤\n",
      "│     1 │ Person 1 │    30 │  70000.0 │\n",
      "│     2 │ Person 2 │    25 │  55000.0 │\n",
      "│     3 │ Person 3 │    35 │  80000.0 │\n",
      "│     4 │ Person 4 │    45 │ 100000.0 │\n",
      "│     5 │ Person 5 │    58 │  85000.0 │\n",
      "│     6 │ Person 6 │    61 │ 175000.0 │\n",
      "│     7 │ Person 7 │    35 │  90000.0 │\n",
      "│     8 │ Person 8 │    26 │  65000.0 │\n",
      "│     9 │ Person 9 │    31 │  75000.0 │\n",
      "└───────┴──────────┴───────┴──────────┘\n",
      "\n"
     ]
    }
   ],
   "source": [
    "con_per.sql('select * from employees').show()"
   ]
  },
  {
   "cell_type": "markdown",
   "metadata": {},
   "source": [
    "## Real example with DuckDB\n",
    "Example above is basic and for learning reasons mostly. On the other hand, real examples where we handle with _large datasets_ we cannot create from scratch the database. Therefore, we resort ourselves to data stored in files from various sources, `.csv`, `.json`, `.parquet`, etc. DuckDB is fully compatible with ingesting data from various source files, therefore we will ingest the table `countries` from a `.parquet` file instead.\n",
    "\n",
    "First, we need to delete the existing table created:"
   ]
  },
  {
   "cell_type": "code",
   "execution_count": 7,
   "metadata": {},
   "outputs": [
    {
     "name": "stdout",
     "output_type": "stream",
     "text": [
      "┌─────────┬─────────┬─────────┬────────────┬─────────────────────┐\n",
      "│ country │  code   │ region  │ sub_region │ intermediate_region │\n",
      "│ varchar │ varchar │ varchar │  varchar   │       varchar       │\n",
      "├─────────┴─────────┴─────────┴────────────┴─────────────────────┤\n",
      "│                             0 rows                             │\n",
      "└────────────────────────────────────────────────────────────────┘\n",
      "\n"
     ]
    }
   ],
   "source": [
    "con_per.sql('delete from countries')\n",
    "con_per.sql('select * from countries').show()"
   ]
  },
  {
   "cell_type": "markdown",
   "metadata": {},
   "source": [
    "Now, let's ingest the table `countries` from the `.parquet` stored in `data/` folder."
   ]
  },
  {
   "cell_type": "code",
   "execution_count": null,
   "metadata": {},
   "outputs": [
    {
     "name": "stdout",
     "output_type": "stream",
     "text": [
      "┌────────────────┬─────────┬─────────┬─────────────────┬─────────────────────┐\n",
      "│    country     │  code   │ region  │   sub_region    │ intermediate_region │\n",
      "│    varchar     │ varchar │ varchar │     varchar     │       varchar       │\n",
      "├────────────────┼─────────┼─────────┼─────────────────┼─────────────────────┤\n",
      "│ Afghanistan    │ AFG     │ Asia    │ Southern Asia   │ NULL                │\n",
      "│ Åland Islands  │ ALA     │ Europe  │ Northern Europe │ NULL                │\n",
      "│ Albania        │ ALB     │ Europe  │ Southern Europe │ NULL                │\n",
      "│ Algeria        │ DZA     │ Africa  │ Northern Africa │ NULL                │\n",
      "│ American Samoa │ ASM     │ Oceania │ Polynesia       │ NULL                │\n",
      "└────────────────┴─────────┴─────────┴─────────────────┴─────────────────────┘\n",
      "\n"
     ]
    }
   ],
   "source": [
    "parquet_file = repo_path / 'data/countries.parquet' # parquet file location\n",
    "\n",
    "# Ingest parquet file as 'countries' table\n",
    "con_per.sql(f'''\n",
    "    insert into countries (country, code, region, sub_region, intermediate_region)\n",
    "    (select * from read_parquet('{parquet_file}'))\n",
    "''')\n",
    "# Example if we had to ingest a .csv file\n",
    "# con_per.sql(f'''\n",
    "#     INSERT INTO countries (country, code, region, sub_region, intermediate_region)\n",
    "#     SELECT * FROM read_csv_auto('{csv_file}')\n",
    "# ''')\n",
    "\n",
    "# Show the ingested table\n",
    "con_per.sql('select * from countries limit 5').show()"
   ]
  },
  {
   "cell_type": "markdown",
   "metadata": {},
   "source": [
    "Let us do some basic SQL query in the new table, it will work as if we were in `SQL mngt studio` SW."
   ]
  },
  {
   "cell_type": "code",
   "execution_count": 8,
   "metadata": {},
   "outputs": [
    {
     "data": {
      "text/plain": [
       "┌───────────────────┬─────────┬─────────┬────────────┬─────────────────────┐\n",
       "│      country      │  code   │ region  │ sub_region │ intermediate_region │\n",
       "│      varchar      │ varchar │ varchar │  varchar   │       varchar       │\n",
       "├───────────────────┼─────────┼─────────┼────────────┼─────────────────────┤\n",
       "│ American Samoa    │ ASM     │ Oceania │ Polynesia  │ NULL                │\n",
       "│ Cook Islands      │ COK     │ Oceania │ Polynesia  │ NULL                │\n",
       "│ French Polynesia  │ PYF     │ Oceania │ Polynesia  │ NULL                │\n",
       "│ Niue              │ NIU     │ Oceania │ Polynesia  │ NULL                │\n",
       "│ Pitcairn          │ PCN     │ Oceania │ Polynesia  │ NULL                │\n",
       "│ Samoa             │ WSM     │ Oceania │ Polynesia  │ NULL                │\n",
       "│ Tokelau           │ TKL     │ Oceania │ Polynesia  │ NULL                │\n",
       "│ Tonga             │ TON     │ Oceania │ Polynesia  │ NULL                │\n",
       "│ Tuvalu            │ TUV     │ Oceania │ Polynesia  │ NULL                │\n",
       "│ Wallis and Futuna │ WLF     │ Oceania │ Polynesia  │ NULL                │\n",
       "├───────────────────┴─────────┴─────────┴────────────┴─────────────────────┤\n",
       "│ 10 rows                                                        5 columns │\n",
       "└──────────────────────────────────────────────────────────────────────────┘"
      ]
     },
     "execution_count": 8,
     "metadata": {},
     "output_type": "execute_result"
    }
   ],
   "source": [
    "# Parameters for dynamic query\n",
    "region = 'Oceania'\n",
    "sub_region = 'Polynesia'\n",
    "\n",
    "# SQL query\n",
    "con_per.sql(f'''\n",
    "    select * from countries\n",
    "        where region = '{region}'\n",
    "            and sub_region = '{sub_region}'\n",
    "''')"
   ]
  },
  {
   "cell_type": "markdown",
   "metadata": {},
   "source": [
    "#### Remark\n",
    "The `.sql` in DuckDB actually reads from these files into an in-memory DuckDB relation (table) and query them directly, to explore and work with data.\n",
    "\n",
    "This is known as DuckDB **relation objects** and can look into all data in this object."
   ]
  },
  {
   "cell_type": "code",
   "execution_count": 9,
   "metadata": {},
   "outputs": [
    {
     "data": {
      "text/plain": [
       "[('American Samoa', 'ASM', 'Oceania', 'Polynesia', None),\n",
       " ('Cook Islands', 'COK', 'Oceania', 'Polynesia', None),\n",
       " ('French Polynesia', 'PYF', 'Oceania', 'Polynesia', None),\n",
       " ('Niue', 'NIU', 'Oceania', 'Polynesia', None),\n",
       " ('Pitcairn', 'PCN', 'Oceania', 'Polynesia', None),\n",
       " ('Samoa', 'WSM', 'Oceania', 'Polynesia', None),\n",
       " ('Tokelau', 'TKL', 'Oceania', 'Polynesia', None),\n",
       " ('Tonga', 'TON', 'Oceania', 'Polynesia', None),\n",
       " ('Tuvalu', 'TUV', 'Oceania', 'Polynesia', None),\n",
       " ('Wallis and Futuna', 'WLF', 'Oceania', 'Polynesia', None)]"
      ]
     },
     "execution_count": 9,
     "metadata": {},
     "output_type": "execute_result"
    }
   ],
   "source": [
    "relation = con_per.sql(f'''\n",
    "    select * from countries\n",
    "        where region = '{region}'\n",
    "            and sub_region = '{sub_region}'\n",
    "''')\n",
    "\n",
    "relation.fetchall()"
   ]
  },
  {
   "cell_type": "markdown",
   "metadata": {},
   "source": [
    " * This cmd `fetchall()` gets all entries from the `relation` object as a list of tuples.\n",
    " * We can also convert the `relation` table into a `DataFrame`"
   ]
  },
  {
   "cell_type": "code",
   "execution_count": 10,
   "metadata": {},
   "outputs": [
    {
     "data": {
      "text/html": [
       "<div>\n",
       "<style scoped>\n",
       "    .dataframe tbody tr th:only-of-type {\n",
       "        vertical-align: middle;\n",
       "    }\n",
       "\n",
       "    .dataframe tbody tr th {\n",
       "        vertical-align: top;\n",
       "    }\n",
       "\n",
       "    .dataframe thead th {\n",
       "        text-align: right;\n",
       "    }\n",
       "</style>\n",
       "<table border=\"1\" class=\"dataframe\">\n",
       "  <thead>\n",
       "    <tr style=\"text-align: right;\">\n",
       "      <th></th>\n",
       "      <th>country</th>\n",
       "      <th>code</th>\n",
       "      <th>region</th>\n",
       "      <th>sub_region</th>\n",
       "      <th>intermediate_region</th>\n",
       "    </tr>\n",
       "  </thead>\n",
       "  <tbody>\n",
       "    <tr>\n",
       "      <th>0</th>\n",
       "      <td>American Samoa</td>\n",
       "      <td>ASM</td>\n",
       "      <td>Oceania</td>\n",
       "      <td>Polynesia</td>\n",
       "      <td>None</td>\n",
       "    </tr>\n",
       "    <tr>\n",
       "      <th>1</th>\n",
       "      <td>Cook Islands</td>\n",
       "      <td>COK</td>\n",
       "      <td>Oceania</td>\n",
       "      <td>Polynesia</td>\n",
       "      <td>None</td>\n",
       "    </tr>\n",
       "    <tr>\n",
       "      <th>2</th>\n",
       "      <td>French Polynesia</td>\n",
       "      <td>PYF</td>\n",
       "      <td>Oceania</td>\n",
       "      <td>Polynesia</td>\n",
       "      <td>None</td>\n",
       "    </tr>\n",
       "    <tr>\n",
       "      <th>3</th>\n",
       "      <td>Niue</td>\n",
       "      <td>NIU</td>\n",
       "      <td>Oceania</td>\n",
       "      <td>Polynesia</td>\n",
       "      <td>None</td>\n",
       "    </tr>\n",
       "    <tr>\n",
       "      <th>4</th>\n",
       "      <td>Pitcairn</td>\n",
       "      <td>PCN</td>\n",
       "      <td>Oceania</td>\n",
       "      <td>Polynesia</td>\n",
       "      <td>None</td>\n",
       "    </tr>\n",
       "    <tr>\n",
       "      <th>5</th>\n",
       "      <td>Samoa</td>\n",
       "      <td>WSM</td>\n",
       "      <td>Oceania</td>\n",
       "      <td>Polynesia</td>\n",
       "      <td>None</td>\n",
       "    </tr>\n",
       "    <tr>\n",
       "      <th>6</th>\n",
       "      <td>Tokelau</td>\n",
       "      <td>TKL</td>\n",
       "      <td>Oceania</td>\n",
       "      <td>Polynesia</td>\n",
       "      <td>None</td>\n",
       "    </tr>\n",
       "    <tr>\n",
       "      <th>7</th>\n",
       "      <td>Tonga</td>\n",
       "      <td>TON</td>\n",
       "      <td>Oceania</td>\n",
       "      <td>Polynesia</td>\n",
       "      <td>None</td>\n",
       "    </tr>\n",
       "    <tr>\n",
       "      <th>8</th>\n",
       "      <td>Tuvalu</td>\n",
       "      <td>TUV</td>\n",
       "      <td>Oceania</td>\n",
       "      <td>Polynesia</td>\n",
       "      <td>None</td>\n",
       "    </tr>\n",
       "    <tr>\n",
       "      <th>9</th>\n",
       "      <td>Wallis and Futuna</td>\n",
       "      <td>WLF</td>\n",
       "      <td>Oceania</td>\n",
       "      <td>Polynesia</td>\n",
       "      <td>None</td>\n",
       "    </tr>\n",
       "  </tbody>\n",
       "</table>\n",
       "</div>"
      ],
      "text/plain": [
       "             country code   region sub_region intermediate_region\n",
       "0     American Samoa  ASM  Oceania  Polynesia                None\n",
       "1       Cook Islands  COK  Oceania  Polynesia                None\n",
       "2   French Polynesia  PYF  Oceania  Polynesia                None\n",
       "3               Niue  NIU  Oceania  Polynesia                None\n",
       "4           Pitcairn  PCN  Oceania  Polynesia                None\n",
       "5              Samoa  WSM  Oceania  Polynesia                None\n",
       "6            Tokelau  TKL  Oceania  Polynesia                None\n",
       "7              Tonga  TON  Oceania  Polynesia                None\n",
       "8             Tuvalu  TUV  Oceania  Polynesia                None\n",
       "9  Wallis and Futuna  WLF  Oceania  Polynesia                None"
      ]
     },
     "execution_count": 10,
     "metadata": {},
     "output_type": "execute_result"
    }
   ],
   "source": [
    "relation.to_df()"
   ]
  },
  {
   "cell_type": "markdown",
   "metadata": {},
   "source": [
    "DuckDB has a set of cmd startwith `to_*` that allows you to convert `relation` tables into other formats for data manipulation too (e.g. `DataFrame`, `CSV`, `arrow_table`).\n",
    "\n",
    "---\n",
    "\n",
    "* Example of ingesting `DataFrame` into DuckDB database"
   ]
  },
  {
   "cell_type": "code",
   "execution_count": 31,
   "metadata": {},
   "outputs": [],
   "source": [
    "# Data stored as a DataFrame\n",
    "df = pd.DataFrame(\n",
    "    data={\n",
    "        'id': [4, 5, 6],\n",
    "        'name': ['Person 4', 'Person 5', 'Person 6'],\n",
    "        'age': [45, 58, 61],\n",
    "        'salary': [100000, 85000, 175000],\n",
    "    }\n",
    ")\n",
    "\n",
    "# Ingest as part of the 'employee' table\n",
    "con_per.sql('''\n",
    "    insert into employees (id, name, age, salary)\n",
    "    select * from df\n",
    "''')"
   ]
  },
  {
   "cell_type": "code",
   "execution_count": 32,
   "metadata": {},
   "outputs": [
    {
     "data": {
      "text/plain": [
       "┌───────┬──────────┬───────┬──────────┐\n",
       "│  id   │   name   │  age  │  salary  │\n",
       "│ int32 │ varchar  │ int32 │  double  │\n",
       "├───────┼──────────┼───────┼──────────┤\n",
       "│     1 │ Person 1 │    30 │  70000.0 │\n",
       "│     2 │ Person 2 │    25 │  55000.0 │\n",
       "│     3 │ Person 3 │    35 │  80000.0 │\n",
       "│     4 │ Person 4 │    45 │ 100000.0 │\n",
       "│     5 │ Person 5 │    58 │  85000.0 │\n",
       "│     6 │ Person 6 │    61 │ 175000.0 │\n",
       "└───────┴──────────┴───────┴──────────┘"
      ]
     },
     "execution_count": 32,
     "metadata": {},
     "output_type": "execute_result"
    }
   ],
   "source": [
    "# Show updated table\n",
    "con_per.sql('select * from employees')"
   ]
  },
  {
   "cell_type": "markdown",
   "metadata": {},
   "source": [
    "Example of inserting the table in a dynamic and generic way:"
   ]
  },
  {
   "cell_type": "code",
   "execution_count": null,
   "metadata": {},
   "outputs": [
    {
     "data": {
      "text/plain": [
       "<duckdb.duckdb.DuckDBPyConnection at 0x7b6c6d7fa830>"
      ]
     },
     "execution_count": 33,
     "metadata": {},
     "output_type": "execute_result"
    }
   ],
   "source": [
    "# Example DataFrame\n",
    "df = pd.DataFrame({\n",
    "    'id': [7, 8, 9],\n",
    "    'name': ['Person 7', 'Person 8', 'Person 9'],\n",
    "    'age': [35, 26, 31],\n",
    "    'salary': [90000, 65000, 75000],\n",
    "})\n",
    "\n",
    "# Dynamic target table and view name\n",
    "table_name = 'employees'\n",
    "view_name = 'temp_df_view'\n",
    "\n",
    "# Register DataFrame as a view\n",
    "con_per.register(view_name, df)\n",
    "\n",
    "# Dynamically extract column names from the DataFrame\n",
    "cols = ', '.join(df.columns)\n",
    "\n",
    "# Build and execute the SQL INSERT statement\n",
    "con_per.sql(f'''\n",
    "    insert into {table_name} ({cols})\n",
    "    select * from {view_name}\n",
    "''')\n",
    "\n",
    "# Optional: Unregister the view\n",
    "con_per.unregister(view_name)"
   ]
  },
  {
   "cell_type": "code",
   "execution_count": 34,
   "metadata": {},
   "outputs": [
    {
     "data": {
      "text/plain": [
       "┌───────┬──────────┬───────┬──────────┐\n",
       "│  id   │   name   │  age  │  salary  │\n",
       "│ int32 │ varchar  │ int32 │  double  │\n",
       "├───────┼──────────┼───────┼──────────┤\n",
       "│     1 │ Person 1 │    30 │  70000.0 │\n",
       "│     2 │ Person 2 │    25 │  55000.0 │\n",
       "│     3 │ Person 3 │    35 │  80000.0 │\n",
       "│     4 │ Person 4 │    45 │ 100000.0 │\n",
       "│     5 │ Person 5 │    58 │  85000.0 │\n",
       "│     6 │ Person 6 │    61 │ 175000.0 │\n",
       "│     7 │ Person 7 │    35 │  90000.0 │\n",
       "│     8 │ Person 8 │    26 │  65000.0 │\n",
       "│     9 │ Person 9 │    31 │  75000.0 │\n",
       "└───────┴──────────┴───────┴──────────┘"
      ]
     },
     "execution_count": 34,
     "metadata": {},
     "output_type": "execute_result"
    }
   ],
   "source": [
    "# Show updated table\n",
    "con_per.sql(f'select * from {table_name}')"
   ]
  },
  {
   "cell_type": "markdown",
   "metadata": {},
   "source": [
    "## DuckDB for analytics work\n",
    "This module is optimized for SQL queries so-called analytical queries:\n",
    "1. _Windows functions:_ perform window operations (i.e. sum, average, other stats) over big datasets\n",
    "1. _Group by:_ Aggregation operations involving _groupby_\n",
    "1. _Parallel execution:_ DuckDB takes care of parallelizing operations for you under the hood\n",
    "\n",
    "DuckDB uses a vectorized execution that helps it to speed up query processing and this can be handy to data analytics work. Additionally, this module directly ingestes compressed data formats such as `.parquet`, reducing the need the _pre-requisite_ for a data decompression process/tool.\n",
    "\n",
    "* Example of _group by_ operation where the objective is to know the number of _unique_ countries each `region` has:"
   ]
  },
  {
   "cell_type": "code",
   "execution_count": null,
   "metadata": {},
   "outputs": [
    {
     "name": "stdout",
     "output_type": "stream",
     "text": [
      "┌──────────┬────────────────┐\n",
      "│  region  │ country_counts │\n",
      "│ varchar  │     int64      │\n",
      "├──────────┼────────────────┤\n",
      "│ Africa   │             60 │\n",
      "│ Americas │             57 │\n",
      "│ Europe   │             51 │\n",
      "│ Asia     │             51 │\n",
      "│ Oceania  │             29 │\n",
      "│ NULL     │              1 │\n",
      "└──────────┴────────────────┘\n",
      "\n"
     ]
    }
   ],
   "source": [
    "query = '''\n",
    "    select region, count(distinct country) as country_counts\n",
    "        from countries\n",
    "        group by region\n",
    "        order by country_counts desc\n",
    "'''\n",
    "\n",
    "con_per.sql(query).show() # Execute the query to agg number of unique countries per region"
   ]
  },
  {
   "cell_type": "markdown",
   "metadata": {},
   "source": [
    "Second example is to get the `employees` above the average salary. This involves:\n",
    "1. Calculate the `average` salary on the `employees` table\n",
    "1. Select _only_ the employees with `salary > avg_salary`"
   ]
  },
  {
   "cell_type": "code",
   "execution_count": 18,
   "metadata": {},
   "outputs": [
    {
     "name": "stdout",
     "output_type": "stream",
     "text": [
      "┌───────┬──────────┬───────┬──────────┐\n",
      "│  id   │   name   │  age  │  salary  │\n",
      "│ int32 │ varchar  │ int32 │  double  │\n",
      "├───────┼──────────┼───────┼──────────┤\n",
      "│     6 │ Person 6 │    61 │ 175000.0 │\n",
      "│     4 │ Person 4 │    45 │ 100000.0 │\n",
      "│     7 │ Person 7 │    35 │  90000.0 │\n",
      "└───────┴──────────┴───────┴──────────┘\n",
      "\n"
     ]
    }
   ],
   "source": [
    "query = '''\n",
    "    -- Calculate the average salary -- round(avg(salary), 2); you could round the average if you want to\n",
    "    with threshold as (\n",
    "        select avg(salary) as avg_salary from employees\n",
    "    )\n",
    "    -- Select only the employees with salary above the threshold\n",
    "    select * from employees\n",
    "        where salary > (select avg_salary from threshold)\n",
    "        order by salary desc\n",
    "'''\n",
    "\n",
    "con_per.sql(query).show() # Execute query"
   ]
  },
  {
   "cell_type": "code",
   "execution_count": 19,
   "metadata": {},
   "outputs": [
    {
     "data": {
      "text/html": [
       "<div>\n",
       "<style scoped>\n",
       "    .dataframe tbody tr th:only-of-type {\n",
       "        vertical-align: middle;\n",
       "    }\n",
       "\n",
       "    .dataframe tbody tr th {\n",
       "        vertical-align: top;\n",
       "    }\n",
       "\n",
       "    .dataframe thead th {\n",
       "        text-align: right;\n",
       "    }\n",
       "</style>\n",
       "<table border=\"1\" class=\"dataframe\">\n",
       "  <thead>\n",
       "    <tr style=\"text-align: right;\">\n",
       "      <th></th>\n",
       "      <th>id</th>\n",
       "      <th>name</th>\n",
       "      <th>age</th>\n",
       "      <th>salary</th>\n",
       "    </tr>\n",
       "  </thead>\n",
       "  <tbody>\n",
       "    <tr>\n",
       "      <th>0</th>\n",
       "      <td>6</td>\n",
       "      <td>Person 6</td>\n",
       "      <td>61</td>\n",
       "      <td>175000.0</td>\n",
       "    </tr>\n",
       "    <tr>\n",
       "      <th>1</th>\n",
       "      <td>4</td>\n",
       "      <td>Person 4</td>\n",
       "      <td>45</td>\n",
       "      <td>100000.0</td>\n",
       "    </tr>\n",
       "    <tr>\n",
       "      <th>2</th>\n",
       "      <td>7</td>\n",
       "      <td>Person 7</td>\n",
       "      <td>35</td>\n",
       "      <td>90000.0</td>\n",
       "    </tr>\n",
       "  </tbody>\n",
       "</table>\n",
       "</div>"
      ],
      "text/plain": [
       "   id      name  age    salary\n",
       "0   6  Person 6   61  175000.0\n",
       "1   4  Person 4   45  100000.0\n",
       "2   7  Person 7   35   90000.0"
      ]
     },
     "execution_count": 19,
     "metadata": {},
     "output_type": "execute_result"
    }
   ],
   "source": [
    "con_per.sql(query).to_df() # Convert executed query to DataFrame"
   ]
  },
  {
   "cell_type": "markdown",
   "metadata": {},
   "source": [
    "## Closing the connection on DuckDB\n",
    "_Once you’re done with your queries, always remember to close the DuckDB connection._"
   ]
  },
  {
   "cell_type": "code",
   "execution_count": 20,
   "metadata": {},
   "outputs": [],
   "source": [
    "con_ram.close()\n",
    "con_per.close()"
   ]
  },
  {
   "cell_type": "markdown",
   "metadata": {},
   "source": [
    "# Closing arguments\n",
    "Why using DuckDB instead of a more generic module as `pandas`? This comes to performance when dealing with big datasets `in-memory`. From my own experience, `pandas` is tailored for `in-memory` data manipulation and that's why it became such a popular tool for all around data analytics projects. When dealing with big dataset, I had to switch to other tools, for example `pyspark` and `dask`, in order to take full advantage of the _distributed computing_. DuckDB falls into the same category with a better interface between SQL and `pandas`, which makes it easier to adopt it in my opinion.\n",
    "\n",
    "As great advantages for me with DuckDB:\n",
    "1. Easy interface with SQL world and a nice module to leverage all my SQL knowledge while still living in the python/DataFrame world. This helps me in data analytics work.\n",
    "1. Smooth interface with _compressed_ data formats as `.parquet` where you can ingest the dataset without having to leverage the extra pain that comes with _compressed_ data formats.\n",
    "1. User friendly module for someone that wants to still use the SQL for data manipulation while keep working in python and DataFrame\n",
    "\n",
    "## Conclusion from the comprehensive guide\n",
    "I copy/paste here the conclusion of the [guide](https://medium.com/@anshubantra/using-duckdb-in-python-a-comprehensive-guide-d14bc0b06546) and give full credit to the guide's author:\n",
    "\n",
    "> \"Speed Comparison: DuckDB vs Pandas\n",
    "> * DuckDB and Pandas are both popular tools for data manipulation in Python, but they have different strengths. Pandas is a general-purpose data manipulation library optimized for in-memory operations, whereas DuckDB is designed specifically for high-performance, analytical queries on large datasets using SQL. DuckDB’s columnar storage and query optimization techniques make it significantly faster than Pandas for complex and large-scale analytical queries.\n",
    "\n",
    "> Why is DuckDB Faster for Analytical Queries?\n",
    "> * Columnar Storage: DuckDB stores data in a columnar format, which is more efficient for analytical queries (like filtering and aggregations). Pandas store data in a row-major format, which is better for general-purpose operations but can be slower for these specific tasks.\n",
    "> * Query Optimization: DuckDB uses query optimizations like predicate pushdown, efficient joins, and parallel query execution, which are typically missing or less efficient in Pandas.\n",
    "> * Parallel Execution: DuckDB can automatically parallelize complex queries, leveraging multiple cores in modern CPUs, while Pandas processes data mostly single-threaded by default.\n",
    "> * On-Disk Storage: DuckDB efficiently handles datasets that don’t fit into memory by using on-disk storage formats like Parquet, while Pandas requires that all data fit into memory.\""
   ]
  }
 ],
 "metadata": {
  "kernelspec": {
   "display_name": "data-eng-project-venv-5XI8U8Gh-py3.12",
   "language": "python",
   "name": "python3"
  },
  "language_info": {
   "codemirror_mode": {
    "name": "ipython",
    "version": 3
   },
   "file_extension": ".py",
   "mimetype": "text/x-python",
   "name": "python",
   "nbconvert_exporter": "python",
   "pygments_lexer": "ipython3",
   "version": "3.12.3"
  }
 },
 "nbformat": 4,
 "nbformat_minor": 2
}
