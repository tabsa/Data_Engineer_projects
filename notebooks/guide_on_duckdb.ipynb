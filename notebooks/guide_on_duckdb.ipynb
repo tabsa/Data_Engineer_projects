{
 "cells": [
  {
   "cell_type": "markdown",
   "metadata": {},
   "source": [
    "# DuckDB in python\n",
    "Notebook that follows the [comprehensive guide](https://medium.com/@anshubantra/using-duckdb-in-python-a-comprehensive-guide-d14bc0b06546) pusblished in medium platform at _September 2024_."
   ]
  },
  {
   "cell_type": "code",
   "execution_count": 1,
   "metadata": {},
   "outputs": [],
   "source": [
    "import duckdb as dd\n",
    "import pandas as pd\n",
    "from pathlib import Path\n",
    "\n",
    "repo_path = Path().resolve().parent # local repository path"
   ]
  },
  {
   "cell_type": "markdown",
   "metadata": {},
   "source": [
    "Create a `DuckDB` database from scratch\n",
    " * database `in-memory` assuming that data is stored in RAM memory\n",
    " * database \"persistent\" assuming that data is stored in a file, making persistent between sessions"
   ]
  },
  {
   "cell_type": "code",
   "execution_count": 2,
   "metadata": {},
   "outputs": [],
   "source": [
    "# in-memory DuckDB connection\n",
    "con_ram = dd.connect(':memory:')\n",
    "\n",
    "# persistent DuckDB connection\n",
    "con_per = dd.connect(repo_path / 'data/my_database.db')"
   ]
  },
  {
   "cell_type": "markdown",
   "metadata": {},
   "source": [
    "See the database schema:"
   ]
  },
  {
   "cell_type": "code",
   "execution_count": 3,
   "metadata": {},
   "outputs": [
    {
     "name": "stdout",
     "output_type": "stream",
     "text": [
      "in-memory database\n",
      "\n"
     ]
    },
    {
     "data": {
      "text/plain": [
       "┌──────────┬─────────┬─────────┬──────────────┬──────────────┬───────────┐\n",
       "│ database │ schema  │  name   │ column_names │ column_types │ temporary │\n",
       "│ varchar  │ varchar │ varchar │  varchar[]   │  varchar[]   │  boolean  │\n",
       "├──────────┴─────────┴─────────┴──────────────┴──────────────┴───────────┤\n",
       "│                                 0 rows                                 │\n",
       "└────────────────────────────────────────────────────────────────────────┘"
      ]
     },
     "metadata": {},
     "output_type": "display_data"
    },
    {
     "name": "stdout",
     "output_type": "stream",
     "text": [
      "persistent database\n",
      "\n"
     ]
    },
    {
     "data": {
      "text/plain": [
       "┌─────────────┬─────────┬───────────┬──────────────────────────────────────────────────────────┬───────────────────────────────────────────────┬───────────┐\n",
       "│  database   │ schema  │   name    │                       column_names                       │                 column_types                  │ temporary │\n",
       "│   varchar   │ varchar │  varchar  │                        varchar[]                         │                   varchar[]                   │  boolean  │\n",
       "├─────────────┼─────────┼───────────┼──────────────────────────────────────────────────────────┼───────────────────────────────────────────────┼───────────┤\n",
       "│ my_database │ main    │ countries │ [country, code, region, sub_region, intermediate_region] │ [VARCHAR, VARCHAR, VARCHAR, VARCHAR, VARCHAR] │ false     │\n",
       "│ my_database │ main    │ employees │ [id, name, age, salary]                                  │ [INTEGER, VARCHAR, INTEGER, DOUBLE]           │ false     │\n",
       "└─────────────┴─────────┴───────────┴──────────────────────────────────────────────────────────┴───────────────────────────────────────────────┴───────────┘"
      ]
     },
     "metadata": {},
     "output_type": "display_data"
    }
   ],
   "source": [
    "print('in-memory database\\n')\n",
    "display(con_ram.sql('show all tables'))\n",
    "print('persistent database\\n')\n",
    "display(con_per.sql('show all tables'))"
   ]
  },
  {
   "cell_type": "markdown",
   "metadata": {},
   "source": [
    "## Basic usage of DuckDB\n",
    "You can start running SQL queries directly with DuckDB in python, here is basic example:"
   ]
  },
  {
   "cell_type": "code",
   "execution_count": 4,
   "metadata": {},
   "outputs": [
    {
     "name": "stdout",
     "output_type": "stream",
     "text": [
      "<class 'duckdb.duckdb.DuckDBPyRelation'>\n",
      "[('DuckDB_is_cool',)]\n",
      "┌────────────────┐\n",
      "│     answer     │\n",
      "│    varchar     │\n",
      "├────────────────┤\n",
      "│ DuckDB_is_cool │\n",
      "└────────────────┘\n",
      "\n"
     ]
    }
   ],
   "source": [
    "# Running a basic SQL query\n",
    "result = dd.sql(\"SELECT 'DuckDB_is_cool' AS answer\")\n",
    "print(type(result))\n",
    "print(result.fetchall())\n",
    "print(result)"
   ]
  },
  {
   "cell_type": "code",
   "execution_count": 36,
   "metadata": {},
   "outputs": [
    {
     "name": "stdout",
     "output_type": "stream",
     "text": [
      "┌────────────┐\n",
      "│     ID     │\n",
      "│   int64    │\n",
      "├────────────┤\n",
      "│          0 │\n",
      "│          1 │\n",
      "│          2 │\n",
      "│          3 │\n",
      "│          4 │\n",
      "│          5 │\n",
      "│          6 │\n",
      "│          7 │\n",
      "│          8 │\n",
      "│          9 │\n",
      "│          · │\n",
      "│          · │\n",
      "│          · │\n",
      "│        990 │\n",
      "│        991 │\n",
      "│        992 │\n",
      "│        993 │\n",
      "│        994 │\n",
      "│        995 │\n",
      "│        996 │\n",
      "│        997 │\n",
      "│        998 │\n",
      "│        999 │\n",
      "├────────────┤\n",
      "│ 1000 rows  │\n",
      "│ (20 shown) │\n",
      "└────────────┘\n",
      "\n"
     ]
    }
   ],
   "source": [
    "# Create a relation from a SQL query\n",
    "rel = dd.sql(\"SELECT * FROM range(10_00) AS tbl(ID)\")\n",
    "# Display the relation\n",
    "rel.show()"
   ]
  },
  {
   "cell_type": "markdown",
   "metadata": {},
   "source": [
    "## DuckDB for SQL queries and data ingestion\n",
    "DuckDB supports any SQL syntax and you can definitely use as \"interface\" with SQL without the trouble if using tools such as `SQL mgnt studio` or `DBeaver`. You can use DuckDB instead and keep working on the python world.\n",
    "\n",
    "Let us use the `con_per` to use the `my_database.db` that this notebook creates, and insert manually a table:"
   ]
  },
  {
   "cell_type": "code",
   "execution_count": 37,
   "metadata": {},
   "outputs": [
    {
     "data": {
      "text/plain": [
       "┌─────────────┬─────────┬───────────┬──────────────────────────────────────────────────────────┬───────────────────────────────────────────────┬───────────┐\n",
       "│  database   │ schema  │   name    │                       column_names                       │                 column_types                  │ temporary │\n",
       "│   varchar   │ varchar │  varchar  │                        varchar[]                         │                   varchar[]                   │  boolean  │\n",
       "├─────────────┼─────────┼───────────┼──────────────────────────────────────────────────────────┼───────────────────────────────────────────────┼───────────┤\n",
       "│ my_database │ main    │ countries │ [country, code, region, sub_region, intermediate_region] │ [VARCHAR, VARCHAR, VARCHAR, VARCHAR, VARCHAR] │ false     │\n",
       "│ my_database │ main    │ employees │ [id, name, age, salary]                                  │ [INTEGER, VARCHAR, INTEGER, DOUBLE]           │ false     │\n",
       "└─────────────┴─────────┴───────────┴──────────────────────────────────────────────────────────┴───────────────────────────────────────────────┴───────────┘"
      ]
     },
     "execution_count": 37,
     "metadata": {},
     "output_type": "execute_result"
    }
   ],
   "source": [
    "# Create a table and its schema\n",
    "con_per.execute('''\n",
    "CREATE OR REPLACE TABLE countries (\n",
    "    country VARCHAR,\n",
    "    code VARCHAR,\n",
    "    region VARCHAR,\n",
    "    sub_region VARCHAR,\n",
    "    intermediate_region VARCHAR\n",
    ");\n",
    "''')\n",
    "\n",
    "# Insert some data into 'countries' table\n",
    "con_per.execute('''\n",
    "INSERT INTO countries VALUES\n",
    "('Australia', 'AUS', 'Oceania', 'Australia and New Zealand', ''),\n",
    "('India', 'IND', 'Asia', 'Southern Asia', '');\n",
    "''')\n",
    "\n",
    "con_per.sql('SHOW ALL TABLES')"
   ]
  },
  {
   "cell_type": "code",
   "execution_count": 5,
   "metadata": {},
   "outputs": [
    {
     "data": {
      "text/plain": [
       "┌───────────┬─────────┬─────────┬───────────────────────────┬─────────────────────┐\n",
       "│  country  │  code   │ region  │        sub_region         │ intermediate_region │\n",
       "│  varchar  │ varchar │ varchar │          varchar          │       varchar       │\n",
       "├───────────┼─────────┼─────────┼───────────────────────────┼─────────────────────┤\n",
       "│ Australia │ AUS     │ Oceania │ Australia and New Zealand │                     │\n",
       "│ India     │ IND     │ Asia    │ Southern Asia             │                     │\n",
       "└───────────┴─────────┴─────────┴───────────────────────────┴─────────────────────┘"
      ]
     },
     "execution_count": 5,
     "metadata": {},
     "output_type": "execute_result"
    }
   ],
   "source": [
    "# Show the table\n",
    "con_per.sql('select * from countries')"
   ]
  },
  {
   "cell_type": "markdown",
   "metadata": {},
   "source": [
    "Now, you can see that we successfully create the table `countries` on the `domain = main` (default) while before `my_database.db` was empty.\n",
    "\n",
    "---\n",
    "\n",
    "Let us create the $2^{nd}$ table for `employees` so we can map employees in each country"
   ]
  },
  {
   "cell_type": "code",
   "execution_count": 39,
   "metadata": {},
   "outputs": [
    {
     "data": {
      "text/plain": [
       "┌─────────────┬─────────┬───────────┬──────────────────────────────────────────────────────────┬───────────────────────────────────────────────┬───────────┐\n",
       "│  database   │ schema  │   name    │                       column_names                       │                 column_types                  │ temporary │\n",
       "│   varchar   │ varchar │  varchar  │                        varchar[]                         │                   varchar[]                   │  boolean  │\n",
       "├─────────────┼─────────┼───────────┼──────────────────────────────────────────────────────────┼───────────────────────────────────────────────┼───────────┤\n",
       "│ my_database │ main    │ countries │ [country, code, region, sub_region, intermediate_region] │ [VARCHAR, VARCHAR, VARCHAR, VARCHAR, VARCHAR] │ false     │\n",
       "│ my_database │ main    │ employees │ [id, name, age, salary]                                  │ [INTEGER, VARCHAR, INTEGER, DOUBLE]           │ false     │\n",
       "└─────────────┴─────────┴───────────┴──────────────────────────────────────────────────────────┴───────────────────────────────────────────────┴───────────┘"
      ]
     },
     "execution_count": 39,
     "metadata": {},
     "output_type": "execute_result"
    }
   ],
   "source": [
    "# Create second table\n",
    "con_per.execute('''\n",
    "CREATE OR REPLACE TABLE employees (\n",
    "    id INTEGER,\n",
    "    name VARCHAR,\n",
    "    age INTEGER,\n",
    "    salary DOUBLE\n",
    ");\n",
    "''')\n",
    "\n",
    "# Insert some data in second table\n",
    "con_per.execute('''\n",
    "INSERT INTO employees VALUES\n",
    "(1, 'Person 1', 30, 70000),\n",
    "(2, 'Person 2', 25, 55000),\n",
    "(3, 'Person 3', 35, 80000);\n",
    "''')\n",
    "\n",
    "\n",
    "# Result of showing tables after creating the second table\n",
    "con_per.sql('SHOW ALL TABLES')"
   ]
  },
  {
   "cell_type": "code",
   "execution_count": 6,
   "metadata": {},
   "outputs": [
    {
     "name": "stdout",
     "output_type": "stream",
     "text": [
      "┌───────┬──────────┬───────┬─────────┐\n",
      "│  id   │   name   │  age  │ salary  │\n",
      "│ int32 │ varchar  │ int32 │ double  │\n",
      "├───────┼──────────┼───────┼─────────┤\n",
      "│     1 │ Person 1 │    30 │ 70000.0 │\n",
      "│     2 │ Person 2 │    25 │ 55000.0 │\n",
      "│     3 │ Person 3 │    35 │ 80000.0 │\n",
      "└───────┴──────────┴───────┴─────────┘\n",
      "\n"
     ]
    }
   ],
   "source": [
    "con_per.sql('select * from employees').show()"
   ]
  },
  {
   "cell_type": "markdown",
   "metadata": {},
   "source": [
    "## Real example with DuckDB\n",
    "Example above is basic and for learning reasons mostly. On the other hand, real examples where we handle with _large datasets_ we cannot create from scratch the database. Therefore, we resort ourselves to data stored in files from various sources, `.csv`, `.json`, `.parquet`, etc. DuckDB is fully compatible with ingesting data from various source files, therefore we will ingest the table `countries` from a `.parquet` file instead.\n",
    "\n",
    "First, we need to delete the existing table created:"
   ]
  },
  {
   "cell_type": "code",
   "execution_count": 7,
   "metadata": {},
   "outputs": [
    {
     "name": "stdout",
     "output_type": "stream",
     "text": [
      "┌─────────┬─────────┬─────────┬────────────┬─────────────────────┐\n",
      "│ country │  code   │ region  │ sub_region │ intermediate_region │\n",
      "│ varchar │ varchar │ varchar │  varchar   │       varchar       │\n",
      "├─────────┴─────────┴─────────┴────────────┴─────────────────────┤\n",
      "│                             0 rows                             │\n",
      "└────────────────────────────────────────────────────────────────┘\n",
      "\n"
     ]
    }
   ],
   "source": [
    "con_per.sql('delete from countries')\n",
    "con_per.sql('select * from countries').show()"
   ]
  },
  {
   "cell_type": "markdown",
   "metadata": {},
   "source": [
    "Now, let's ingest the table `countries` from the `.parquet` stored in `data/` folder."
   ]
  },
  {
   "cell_type": "code",
   "execution_count": null,
   "metadata": {},
   "outputs": [
    {
     "name": "stdout",
     "output_type": "stream",
     "text": [
      "┌────────────────┬─────────┬─────────┬─────────────────┬─────────────────────┐\n",
      "│    country     │  code   │ region  │   sub_region    │ intermediate_region │\n",
      "│    varchar     │ varchar │ varchar │     varchar     │       varchar       │\n",
      "├────────────────┼─────────┼─────────┼─────────────────┼─────────────────────┤\n",
      "│ Afghanistan    │ AFG     │ Asia    │ Southern Asia   │ NULL                │\n",
      "│ Åland Islands  │ ALA     │ Europe  │ Northern Europe │ NULL                │\n",
      "│ Albania        │ ALB     │ Europe  │ Southern Europe │ NULL                │\n",
      "│ Algeria        │ DZA     │ Africa  │ Northern Africa │ NULL                │\n",
      "│ American Samoa │ ASM     │ Oceania │ Polynesia       │ NULL                │\n",
      "└────────────────┴─────────┴─────────┴─────────────────┴─────────────────────┘\n",
      "\n"
     ]
    }
   ],
   "source": [
    "parquet_file = repo_path / 'data/countries.parquet' # parquet file location\n",
    "\n",
    "# Ingest parquet file as 'countries' table\n",
    "con_per.sql(f'''\n",
    "    insert into countries (country, code, region, sub_region, intermediate_region)\n",
    "    (select * from read_parquet('{parquet_file}'))\n",
    "''')\n",
    "# Example if we had to ingest a .csv file\n",
    "# con_per.sql(f'''\n",
    "#     INSERT INTO countries (country, code, region, sub_region, intermediate_region)\n",
    "#     SELECT * FROM read_csv_auto('{csv_file}')\n",
    "# ''')\n",
    "\n",
    "# Show the ingested table\n",
    "con_per.sql('select * from countries limit 5').show()"
   ]
  },
  {
   "cell_type": "markdown",
   "metadata": {},
   "source": [
    "Let us do some basic SQL query in the new table, it will work as if we were in `SQL mngt studio` SW."
   ]
  },
  {
   "cell_type": "code",
   "execution_count": 25,
   "metadata": {},
   "outputs": [
    {
     "data": {
      "text/plain": [
       "┌───────────────────┬─────────┬─────────┬────────────┬─────────────────────┐\n",
       "│      country      │  code   │ region  │ sub_region │ intermediate_region │\n",
       "│      varchar      │ varchar │ varchar │  varchar   │       varchar       │\n",
       "├───────────────────┼─────────┼─────────┼────────────┼─────────────────────┤\n",
       "│ American Samoa    │ ASM     │ Oceania │ Polynesia  │ NULL                │\n",
       "│ Cook Islands      │ COK     │ Oceania │ Polynesia  │ NULL                │\n",
       "│ French Polynesia  │ PYF     │ Oceania │ Polynesia  │ NULL                │\n",
       "│ Niue              │ NIU     │ Oceania │ Polynesia  │ NULL                │\n",
       "│ Pitcairn          │ PCN     │ Oceania │ Polynesia  │ NULL                │\n",
       "│ Samoa             │ WSM     │ Oceania │ Polynesia  │ NULL                │\n",
       "│ Tokelau           │ TKL     │ Oceania │ Polynesia  │ NULL                │\n",
       "│ Tonga             │ TON     │ Oceania │ Polynesia  │ NULL                │\n",
       "│ Tuvalu            │ TUV     │ Oceania │ Polynesia  │ NULL                │\n",
       "│ Wallis and Futuna │ WLF     │ Oceania │ Polynesia  │ NULL                │\n",
       "├───────────────────┴─────────┴─────────┴────────────┴─────────────────────┤\n",
       "│ 10 rows                                                        5 columns │\n",
       "└──────────────────────────────────────────────────────────────────────────┘"
      ]
     },
     "execution_count": 25,
     "metadata": {},
     "output_type": "execute_result"
    }
   ],
   "source": [
    "# Parameters for dynamic query\n",
    "region = 'Oceania'\n",
    "sub_region = 'Polynesia'\n",
    "\n",
    "# SQL query\n",
    "con_per.sql(f'''\n",
    "    select * from countries\n",
    "        where region = '{region}'\n",
    "            and sub_region = '{sub_region}'\n",
    "''')"
   ]
  },
  {
   "cell_type": "markdown",
   "metadata": {},
   "source": [
    "#### Remark\n",
    "The `.sql` in DuckDB actually reads from these files into an in-memory DuckDB relation (table) and query them directly, to explore and work with data.\n",
    "\n",
    "This is known as DuckDB **relation objects** and can look into all data in this object."
   ]
  },
  {
   "cell_type": "code",
   "execution_count": 26,
   "metadata": {},
   "outputs": [
    {
     "data": {
      "text/plain": [
       "[('American Samoa', 'ASM', 'Oceania', 'Polynesia', None),\n",
       " ('Cook Islands', 'COK', 'Oceania', 'Polynesia', None),\n",
       " ('French Polynesia', 'PYF', 'Oceania', 'Polynesia', None),\n",
       " ('Niue', 'NIU', 'Oceania', 'Polynesia', None),\n",
       " ('Pitcairn', 'PCN', 'Oceania', 'Polynesia', None),\n",
       " ('Samoa', 'WSM', 'Oceania', 'Polynesia', None),\n",
       " ('Tokelau', 'TKL', 'Oceania', 'Polynesia', None),\n",
       " ('Tonga', 'TON', 'Oceania', 'Polynesia', None),\n",
       " ('Tuvalu', 'TUV', 'Oceania', 'Polynesia', None),\n",
       " ('Wallis and Futuna', 'WLF', 'Oceania', 'Polynesia', None)]"
      ]
     },
     "execution_count": 26,
     "metadata": {},
     "output_type": "execute_result"
    }
   ],
   "source": [
    "relation = con_per.sql(f'''\n",
    "    select * from countries\n",
    "        where region = '{region}'\n",
    "            and sub_region = '{sub_region}'\n",
    "''')\n",
    "\n",
    "relation.fetchall()"
   ]
  },
  {
   "cell_type": "markdown",
   "metadata": {},
   "source": [
    " * This cmd `fetchall()` gets all entries from the `relation` object as a list of tuples.\n",
    " * We can also convert the `relation` table into a `DataFrame`"
   ]
  },
  {
   "cell_type": "code",
   "execution_count": 28,
   "metadata": {},
   "outputs": [
    {
     "data": {
      "text/html": [
       "<div>\n",
       "<style scoped>\n",
       "    .dataframe tbody tr th:only-of-type {\n",
       "        vertical-align: middle;\n",
       "    }\n",
       "\n",
       "    .dataframe tbody tr th {\n",
       "        vertical-align: top;\n",
       "    }\n",
       "\n",
       "    .dataframe thead th {\n",
       "        text-align: right;\n",
       "    }\n",
       "</style>\n",
       "<table border=\"1\" class=\"dataframe\">\n",
       "  <thead>\n",
       "    <tr style=\"text-align: right;\">\n",
       "      <th></th>\n",
       "      <th>country</th>\n",
       "      <th>code</th>\n",
       "      <th>region</th>\n",
       "      <th>sub_region</th>\n",
       "      <th>intermediate_region</th>\n",
       "    </tr>\n",
       "  </thead>\n",
       "  <tbody>\n",
       "    <tr>\n",
       "      <th>0</th>\n",
       "      <td>American Samoa</td>\n",
       "      <td>ASM</td>\n",
       "      <td>Oceania</td>\n",
       "      <td>Polynesia</td>\n",
       "      <td>None</td>\n",
       "    </tr>\n",
       "    <tr>\n",
       "      <th>1</th>\n",
       "      <td>Cook Islands</td>\n",
       "      <td>COK</td>\n",
       "      <td>Oceania</td>\n",
       "      <td>Polynesia</td>\n",
       "      <td>None</td>\n",
       "    </tr>\n",
       "    <tr>\n",
       "      <th>2</th>\n",
       "      <td>French Polynesia</td>\n",
       "      <td>PYF</td>\n",
       "      <td>Oceania</td>\n",
       "      <td>Polynesia</td>\n",
       "      <td>None</td>\n",
       "    </tr>\n",
       "    <tr>\n",
       "      <th>3</th>\n",
       "      <td>Niue</td>\n",
       "      <td>NIU</td>\n",
       "      <td>Oceania</td>\n",
       "      <td>Polynesia</td>\n",
       "      <td>None</td>\n",
       "    </tr>\n",
       "    <tr>\n",
       "      <th>4</th>\n",
       "      <td>Pitcairn</td>\n",
       "      <td>PCN</td>\n",
       "      <td>Oceania</td>\n",
       "      <td>Polynesia</td>\n",
       "      <td>None</td>\n",
       "    </tr>\n",
       "    <tr>\n",
       "      <th>5</th>\n",
       "      <td>Samoa</td>\n",
       "      <td>WSM</td>\n",
       "      <td>Oceania</td>\n",
       "      <td>Polynesia</td>\n",
       "      <td>None</td>\n",
       "    </tr>\n",
       "    <tr>\n",
       "      <th>6</th>\n",
       "      <td>Tokelau</td>\n",
       "      <td>TKL</td>\n",
       "      <td>Oceania</td>\n",
       "      <td>Polynesia</td>\n",
       "      <td>None</td>\n",
       "    </tr>\n",
       "    <tr>\n",
       "      <th>7</th>\n",
       "      <td>Tonga</td>\n",
       "      <td>TON</td>\n",
       "      <td>Oceania</td>\n",
       "      <td>Polynesia</td>\n",
       "      <td>None</td>\n",
       "    </tr>\n",
       "    <tr>\n",
       "      <th>8</th>\n",
       "      <td>Tuvalu</td>\n",
       "      <td>TUV</td>\n",
       "      <td>Oceania</td>\n",
       "      <td>Polynesia</td>\n",
       "      <td>None</td>\n",
       "    </tr>\n",
       "    <tr>\n",
       "      <th>9</th>\n",
       "      <td>Wallis and Futuna</td>\n",
       "      <td>WLF</td>\n",
       "      <td>Oceania</td>\n",
       "      <td>Polynesia</td>\n",
       "      <td>None</td>\n",
       "    </tr>\n",
       "  </tbody>\n",
       "</table>\n",
       "</div>"
      ],
      "text/plain": [
       "             country code   region sub_region intermediate_region\n",
       "0     American Samoa  ASM  Oceania  Polynesia                None\n",
       "1       Cook Islands  COK  Oceania  Polynesia                None\n",
       "2   French Polynesia  PYF  Oceania  Polynesia                None\n",
       "3               Niue  NIU  Oceania  Polynesia                None\n",
       "4           Pitcairn  PCN  Oceania  Polynesia                None\n",
       "5              Samoa  WSM  Oceania  Polynesia                None\n",
       "6            Tokelau  TKL  Oceania  Polynesia                None\n",
       "7              Tonga  TON  Oceania  Polynesia                None\n",
       "8             Tuvalu  TUV  Oceania  Polynesia                None\n",
       "9  Wallis and Futuna  WLF  Oceania  Polynesia                None"
      ]
     },
     "execution_count": 28,
     "metadata": {},
     "output_type": "execute_result"
    }
   ],
   "source": [
    "relation.to_df()"
   ]
  },
  {
   "cell_type": "markdown",
   "metadata": {},
   "source": [
    "DuckDB has a set of cmd startwith `to_*` that allows you to convert `relation` tables into other formats for data manipulation too (e.g. `DataFrame`, `CSV`, `arrow_table`).\n",
    "\n",
    "---\n",
    "\n",
    "* Example of ingesting `DataFrame` into DuckDB database"
   ]
  },
  {
   "cell_type": "code",
   "execution_count": 31,
   "metadata": {},
   "outputs": [],
   "source": [
    "# Data stored as a DataFrame\n",
    "df = pd.DataFrame(\n",
    "    data={\n",
    "        'id': [4, 5, 6],\n",
    "        'name': ['Person 4', 'Person 5', 'Person 6'],\n",
    "        'age': [45, 58, 61],\n",
    "        'salary': [100000, 85000, 175000],\n",
    "    }\n",
    ")\n",
    "\n",
    "# Ingest as part of the 'employee' table\n",
    "con_per.sql('''\n",
    "    insert into employees (id, name, age, salary)\n",
    "    select * from df\n",
    "''')"
   ]
  },
  {
   "cell_type": "code",
   "execution_count": 32,
   "metadata": {},
   "outputs": [
    {
     "data": {
      "text/plain": [
       "┌───────┬──────────┬───────┬──────────┐\n",
       "│  id   │   name   │  age  │  salary  │\n",
       "│ int32 │ varchar  │ int32 │  double  │\n",
       "├───────┼──────────┼───────┼──────────┤\n",
       "│     1 │ Person 1 │    30 │  70000.0 │\n",
       "│     2 │ Person 2 │    25 │  55000.0 │\n",
       "│     3 │ Person 3 │    35 │  80000.0 │\n",
       "│     4 │ Person 4 │    45 │ 100000.0 │\n",
       "│     5 │ Person 5 │    58 │  85000.0 │\n",
       "│     6 │ Person 6 │    61 │ 175000.0 │\n",
       "└───────┴──────────┴───────┴──────────┘"
      ]
     },
     "execution_count": 32,
     "metadata": {},
     "output_type": "execute_result"
    }
   ],
   "source": [
    "# Show updated table\n",
    "con_per.sql('select * from employees')"
   ]
  },
  {
   "cell_type": "markdown",
   "metadata": {},
   "source": [
    "Example of inserting the table in a dynamic and generic way:"
   ]
  },
  {
   "cell_type": "code",
   "execution_count": null,
   "metadata": {},
   "outputs": [
    {
     "data": {
      "text/plain": [
       "<duckdb.duckdb.DuckDBPyConnection at 0x7b6c6d7fa830>"
      ]
     },
     "execution_count": 33,
     "metadata": {},
     "output_type": "execute_result"
    }
   ],
   "source": [
    "# Example DataFrame\n",
    "df = pd.DataFrame({\n",
    "    'id': [7, 8, 9],\n",
    "    'name': ['Person 7', 'Person 8', 'Person 9'],\n",
    "    'age': [35, 26, 31],\n",
    "    'salary': [90000, 65000, 75000],\n",
    "})\n",
    "\n",
    "# Dynamic target table and view name\n",
    "table_name = 'employees'\n",
    "view_name = 'temp_df_view'\n",
    "\n",
    "# Register DataFrame as a view\n",
    "con_per.register(view_name, df)\n",
    "\n",
    "# Dynamically extract column names from the DataFrame\n",
    "cols = ', '.join(df.columns)\n",
    "\n",
    "# Build and execute the SQL INSERT statement\n",
    "con_per.sql(f'''\n",
    "    insert into {table_name} ({cols})\n",
    "    select * from {view_name}\n",
    "''')\n",
    "\n",
    "# Optional: Unregister the view\n",
    "con_per.unregister(view_name)"
   ]
  },
  {
   "cell_type": "code",
   "execution_count": 34,
   "metadata": {},
   "outputs": [
    {
     "data": {
      "text/plain": [
       "┌───────┬──────────┬───────┬──────────┐\n",
       "│  id   │   name   │  age  │  salary  │\n",
       "│ int32 │ varchar  │ int32 │  double  │\n",
       "├───────┼──────────┼───────┼──────────┤\n",
       "│     1 │ Person 1 │    30 │  70000.0 │\n",
       "│     2 │ Person 2 │    25 │  55000.0 │\n",
       "│     3 │ Person 3 │    35 │  80000.0 │\n",
       "│     4 │ Person 4 │    45 │ 100000.0 │\n",
       "│     5 │ Person 5 │    58 │  85000.0 │\n",
       "│     6 │ Person 6 │    61 │ 175000.0 │\n",
       "│     7 │ Person 7 │    35 │  90000.0 │\n",
       "│     8 │ Person 8 │    26 │  65000.0 │\n",
       "│     9 │ Person 9 │    31 │  75000.0 │\n",
       "└───────┴──────────┴───────┴──────────┘"
      ]
     },
     "execution_count": 34,
     "metadata": {},
     "output_type": "execute_result"
    }
   ],
   "source": [
    "# Show updated table\n",
    "con_per.sql(f'select * from {table_name}')"
   ]
  },
  {
   "cell_type": "code",
   "execution_count": null,
   "metadata": {},
   "outputs": [],
   "source": []
  }
 ],
 "metadata": {
  "kernelspec": {
   "display_name": "data-eng-project-venv-5XI8U8Gh-py3.12",
   "language": "python",
   "name": "python3"
  },
  "language_info": {
   "codemirror_mode": {
    "name": "ipython",
    "version": 3
   },
   "file_extension": ".py",
   "mimetype": "text/x-python",
   "name": "python",
   "nbconvert_exporter": "python",
   "pygments_lexer": "ipython3",
   "version": "3.12.3"
  }
 },
 "nbformat": 4,
 "nbformat_minor": 2
}
